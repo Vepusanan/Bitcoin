{
  "cells": [
    {
      "cell_type": "markdown",
      "metadata": {},
      "source": [
        "# Key Insights Summary\n",
        "\n",
        "This notebook summarizes key findings from the analysis with links to figures.\n"
      ]
    },
    {
      "cell_type": "markdown",
      "metadata": {},
      "source": [
        "## Highlights\n",
        "\n",
        "- Volatility trends and regimes\n",
        "- Event-driven return patterns\n",
        "- Comparison of volatility estimators\n",
        "\n",
        "Refer to notebooks:\n",
        "- 01_data_exploration.ipynb\n",
        "- 02_event_impact_analysis.ipynb\n",
        "- 03_volatility_measures_comparison.ipynb\n"
      ]
    },
    {
      "cell_type": "code",
      "execution_count": 2,
      "metadata": {},
      "outputs": [
        {
          "name": "stdout",
          "output_type": "stream",
          "text": [
            "Results directory: /Users/vepusanannanthakumar/Desktop/final-research-project-statify/results\n"
          ]
        },
        {
          "data": {
            "text/plain": [
              "[PosixPath('../results/distribution_analysis.png'),\n",
              " PosixPath('../results/event_52_impact.png'),\n",
              " PosixPath('../results/event_8_impact.png'),\n",
              " PosixPath('../results/event_30_impact.png'),\n",
              " PosixPath('../results/event_16_impact.png'),\n",
              " PosixPath('../results/event_21_impact.png'),\n",
              " PosixPath('../results/bitcoin_timeseries.png'),\n",
              " PosixPath('../results/event_43_impact.png'),\n",
              " PosixPath('../results/event_5_impact.png'),\n",
              " PosixPath('../results/event_24_impact.png'),\n",
              " PosixPath('../results/event_13_impact.png'),\n",
              " PosixPath('../results/event_46_impact.png'),\n",
              " PosixPath('../results/event_38_impact.png'),\n",
              " PosixPath('../results/event_29_impact.png'),\n",
              " PosixPath('../results/event_60_impact.png'),\n",
              " PosixPath('../results/event_57_impact.png'),\n",
              " PosixPath('../results/event_35_impact.png'),\n",
              " PosixPath('../results/event_50_impact.png'),\n",
              " PosixPath('../results/event_32_impact.png'),\n",
              " PosixPath('../results/event_19_impact.png'),\n",
              " PosixPath('../results/event_7_impact.png'),\n",
              " PosixPath('../results/event_23_impact.png'),\n",
              " PosixPath('../results/.gitkeep'),\n",
              " PosixPath('../results/event_14_impact.png'),\n",
              " PosixPath('../results/event_41_impact.png'),\n",
              " PosixPath('../results/event_2_impact.png'),\n",
              " PosixPath('../results/event_58_impact.png'),\n",
              " PosixPath('../results/event_11_impact.png'),\n",
              " PosixPath('../results/event_26_impact.png'),\n",
              " PosixPath('../results/event_44_impact.png'),\n",
              " PosixPath('../results/event_55_impact.png'),\n",
              " PosixPath('../results/event_62_impact.png'),\n",
              " PosixPath('../results/event_37_impact.png'),\n",
              " PosixPath('../results/event_49_impact.png'),\n",
              " PosixPath('../results/event_25_impact.png'),\n",
              " PosixPath('../results/event_12_impact.png'),\n",
              " PosixPath('../results/event_47_impact.png'),\n",
              " PosixPath('../results/event_39_impact.png'),\n",
              " PosixPath('../results/event_1_impact.png'),\n",
              " PosixPath('../results/descriptive_stats.txt'),\n",
              " PosixPath('../results/event_28_impact.png'),\n",
              " PosixPath('../results/event_61_impact.png'),\n",
              " PosixPath('../results/event_56_impact.png'),\n",
              " PosixPath('../results/event_34_impact.png'),\n",
              " PosixPath('../results/event_53_impact.png'),\n",
              " PosixPath('../results/event_9_impact.png'),\n",
              " PosixPath('../results/event_31_impact.png'),\n",
              " PosixPath('../results/event_17_impact.png'),\n",
              " PosixPath('../results/event_20_impact.png'),\n",
              " PosixPath('../results/event_42_impact.png'),\n",
              " PosixPath('../results/event_4_impact.png'),\n",
              " PosixPath('../results/event_3_impact.png'),\n",
              " PosixPath('../results/event_59_impact.png'),\n",
              " PosixPath('../results/event_10_impact.png'),\n",
              " PosixPath('../results/event_27_impact.png'),\n",
              " PosixPath('../results/event_45_impact.png'),\n",
              " PosixPath('../results/event_54_impact.png'),\n",
              " PosixPath('../results/event_36_impact.png'),\n",
              " PosixPath('../results/event_48_impact.png'),\n",
              " PosixPath('../results/event_51_impact.png'),\n",
              " PosixPath('../results/event_33_impact.png'),\n",
              " PosixPath('../results/event_18_impact.png'),\n",
              " PosixPath('../results/event_6_impact.png'),\n",
              " PosixPath('../results/event_22_impact.png'),\n",
              " PosixPath('../results/event_15_impact.png'),\n",
              " PosixPath('../results/event_40_impact.png')]"
            ]
          },
          "execution_count": 2,
          "metadata": {},
          "output_type": "execute_result"
        }
      ],
      "source": [
        "# Optionally load precomputed figures or metrics if available\n",
        "from pathlib import Path\n",
        "results_dir = Path('..') / 'results'\n",
        "print(f\"Results directory: {results_dir.resolve()}\")\n",
        "list(results_dir.glob('*'))\n"
      ]
    }
  ],
  "metadata": {
    "kernelspec": {
      "display_name": ".venv",
      "language": "python",
      "name": "python3"
    },
    "language_info": {
      "codemirror_mode": {
        "name": "ipython",
        "version": 3
      },
      "file_extension": ".py",
      "mimetype": "text/x-python",
      "name": "python",
      "nbconvert_exporter": "python",
      "pygments_lexer": "ipython3",
      "version": "3.13.5"
    }
  },
  "nbformat": 4,
  "nbformat_minor": 2
}
