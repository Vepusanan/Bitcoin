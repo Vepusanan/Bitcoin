{
  "cells": [
    {
      "cell_type": "markdown",
      "metadata": {},
      "source": [
        "# Event Impact Analysis\n",
        "\n",
        "Analyze the impact of key market events on Bitcoin returns using event windows.\n"
      ]
    },
    {
      "cell_type": "code",
      "execution_count": 1,
      "metadata": {},
      "outputs": [
        {
          "data": {
            "text/plain": [
              "(                  Price    Adj Close        Close         High          Low  \\\n",
              " Date                                                                          \n",
              " 2020-01-31  9350.529297  9350.529297  9521.706055  9230.776367  9508.313477   \n",
              " 2020-02-01  9392.875000  9392.875000  9439.323242  9313.239258  9346.357422   \n",
              " 2020-02-02  9344.365234  9344.365234  9468.797852  9217.824219  9389.820312   \n",
              " 2020-02-03  9293.521484  9293.521484  9540.372070  9248.633789  9344.683594   \n",
              " 2020-02-04  9180.962891  9180.962891  9331.265625  9112.811523  9292.841797   \n",
              " \n",
              "                    Open    Volume  Daily_Return  Volatility_30d  Abs_Return  \\\n",
              " Date                                                                          \n",
              " 2020-01-31  29432489719 -0.016665      0.028623        0.016665         NaN   \n",
              " 2020-02-01  25922656496  0.004529      0.027682        0.004529         NaN   \n",
              " 2020-02-02  30835736946 -0.005165      0.026691        0.005165         NaN   \n",
              " 2020-02-03  30934096509 -0.005441      0.026810        0.005441         NaN   \n",
              " 2020-02-04  29893183716 -0.012112      0.027024        0.012112         NaN   \n",
              " \n",
              "                  ret  \n",
              " Date                  \n",
              " 2020-01-31       NaN  \n",
              " 2020-02-01 -0.008652  \n",
              " 2020-02-02  0.003123  \n",
              " 2020-02-03  0.007559  \n",
              " 2020-02-04 -0.021918  ,\n",
              "         date                                         event  severity  \\\n",
              " 0 2020-03-12   Bitcoin crashes 50% in COVID Black Thursday         5   \n",
              " 1 2020-07-26          Bitcoin breaks above $10K resistance         3   \n",
              " 2 2020-10-21  Bitcoin rally begins on institutional demand         4   \n",
              " 3 2020-11-30           Bitcoin breaks $19K approaching ATH         4   \n",
              " 4 2020-12-17             Bitcoin breaks $20K all-time high         5   \n",
              " \n",
              "   price_impact  year  month  event_id  \n",
              " 0     negative  2020      3         1  \n",
              " 1     positive  2020      7         2  \n",
              " 2     positive  2020     10         3  \n",
              " 3     positive  2020     11         4  \n",
              " 4     positive  2020     12         5  )"
            ]
          },
          "execution_count": 1,
          "metadata": {},
          "output_type": "execute_result"
        }
      ],
      "source": [
        "import pandas as pd\n",
        "import numpy as np\n",
        "from pathlib import Path\n",
        "\n",
        "project_root = Path('..')\n",
        "\n",
        "# Load data\n",
        "prices_csv = project_root / 'data' / 'raw' / 'bitcoin_prices.csv'\n",
        "with open(prices_csv, 'r', encoding='utf-8') as f:\n",
        "    line1 = f.readline().strip(); f.readline(); f.readline()\n",
        "columns = ['Date'] + [h.strip().strip('\"') for h in line1.split(',')]\n",
        "prices = pd.read_csv(prices_csv, skiprows=3, header=None, names=columns)\n",
        "prices['Date'] = pd.to_datetime(prices['Date'], errors='coerce')\n",
        "prices = prices.dropna(subset=['Date']).set_index('Date').sort_index()\n",
        "\n",
        "for c in prices.columns:\n",
        "    if c != 'Ticker' and prices[c].dtype == 'object':\n",
        "        prices[c] = pd.to_numeric(prices[c], errors='coerce')\n",
        "\n",
        "# Returns\n",
        "if 'Close' in prices.columns:\n",
        "    prices['ret'] = prices['Close'].pct_change()\n",
        "else:\n",
        "    prices['ret'] = prices['Price'].pct_change() if 'Price' in prices.columns else np.nan\n",
        "\n",
        "# Events\n",
        "events_csv = project_root / 'data' / 'processed' / 'market_events.csv'\n",
        "events = pd.read_csv(events_csv, parse_dates=['date'])\n",
        "\n",
        "prices.head(), events.head()\n"
      ]
    },
    {
      "cell_type": "code",
      "execution_count": 2,
      "metadata": {},
      "outputs": [
        {
          "data": {
            "text/html": [
              "<div>\n",
              "<style scoped>\n",
              "    .dataframe tbody tr th:only-of-type {\n",
              "        vertical-align: middle;\n",
              "    }\n",
              "\n",
              "    .dataframe tbody tr th {\n",
              "        vertical-align: top;\n",
              "    }\n",
              "\n",
              "    .dataframe thead th {\n",
              "        text-align: right;\n",
              "    }\n",
              "</style>\n",
              "<table border=\"1\" class=\"dataframe\">\n",
              "  <thead>\n",
              "    <tr style=\"text-align: right;\">\n",
              "      <th></th>\n",
              "      <th>date</th>\n",
              "      <th>ret</th>\n",
              "      <th>event_date</th>\n",
              "    </tr>\n",
              "  </thead>\n",
              "  <tbody>\n",
              "    <tr>\n",
              "      <th>0</th>\n",
              "      <td>2020-03-09</td>\n",
              "      <td>-0.082625</td>\n",
              "      <td>2020-03-12</td>\n",
              "    </tr>\n",
              "    <tr>\n",
              "      <th>1</th>\n",
              "      <td>2020-03-10</td>\n",
              "      <td>-0.004995</td>\n",
              "      <td>2020-03-12</td>\n",
              "    </tr>\n",
              "    <tr>\n",
              "      <th>2</th>\n",
              "      <td>2020-03-11</td>\n",
              "      <td>-0.022875</td>\n",
              "      <td>2020-03-12</td>\n",
              "    </tr>\n",
              "    <tr>\n",
              "      <th>3</th>\n",
              "      <td>2020-03-12</td>\n",
              "      <td>-0.002729</td>\n",
              "      <td>2020-03-12</td>\n",
              "    </tr>\n",
              "    <tr>\n",
              "      <th>4</th>\n",
              "      <td>2020-03-13</td>\n",
              "      <td>-0.263712</td>\n",
              "      <td>2020-03-12</td>\n",
              "    </tr>\n",
              "  </tbody>\n",
              "</table>\n",
              "</div>"
            ],
            "text/plain": [
              "        date       ret event_date\n",
              "0 2020-03-09 -0.082625 2020-03-12\n",
              "1 2020-03-10 -0.004995 2020-03-12\n",
              "2 2020-03-11 -0.022875 2020-03-12\n",
              "3 2020-03-12 -0.002729 2020-03-12\n",
              "4 2020-03-13 -0.263712 2020-03-12"
            ]
          },
          "execution_count": 2,
          "metadata": {},
          "output_type": "execute_result"
        }
      ],
      "source": [
        "# Define event window function\n",
        "from dataclasses import dataclass\n",
        "from typing import Tuple\n",
        "\n",
        "@dataclass\n",
        "class EventWindowParams:\n",
        "    pre_days: int = 3\n",
        "    post_days: int = 3\n",
        "\n",
        "\n",
        "def compute_event_window_returns(prices: pd.DataFrame, events: pd.DataFrame, date_col: str = 'date', ret_col: str = 'ret', params: EventWindowParams = EventWindowParams()) -> pd.DataFrame:\n",
        "    out = []\n",
        "    for _, row in events.iterrows():\n",
        "        d = pd.to_datetime(row[date_col])\n",
        "        window = prices.loc[d - pd.Timedelta(days=params.pre_days): d + pd.Timedelta(days=params.post_days)]\n",
        "        window = window[[ret_col]].rename(columns={ret_col: 'ret'})\n",
        "        window = window.assign(event_date=d)\n",
        "        out.append(window)\n",
        "    return pd.concat(out).reset_index(names='date')\n",
        "\n",
        "window_returns = compute_event_window_returns(prices, events)\n",
        "window_returns.head()\n"
      ]
    },
    {
      "cell_type": "code",
      "execution_count": 3,
      "metadata": {},
      "outputs": [
        {
          "data": {
            "text/html": [
              "<div>\n",
              "<style scoped>\n",
              "    .dataframe tbody tr th:only-of-type {\n",
              "        vertical-align: middle;\n",
              "    }\n",
              "\n",
              "    .dataframe tbody tr th {\n",
              "        vertical-align: top;\n",
              "    }\n",
              "\n",
              "    .dataframe thead th {\n",
              "        text-align: right;\n",
              "    }\n",
              "</style>\n",
              "<table border=\"1\" class=\"dataframe\">\n",
              "  <thead>\n",
              "    <tr style=\"text-align: right;\">\n",
              "      <th></th>\n",
              "      <th>event_date</th>\n",
              "      <th>rel_day</th>\n",
              "      <th>ret</th>\n",
              "    </tr>\n",
              "  </thead>\n",
              "  <tbody>\n",
              "    <tr>\n",
              "      <th>0</th>\n",
              "      <td>2020-03-12</td>\n",
              "      <td>-3</td>\n",
              "      <td>-0.082625</td>\n",
              "    </tr>\n",
              "    <tr>\n",
              "      <th>1</th>\n",
              "      <td>2020-03-12</td>\n",
              "      <td>-2</td>\n",
              "      <td>-0.004995</td>\n",
              "    </tr>\n",
              "    <tr>\n",
              "      <th>2</th>\n",
              "      <td>2020-03-12</td>\n",
              "      <td>-1</td>\n",
              "      <td>-0.022875</td>\n",
              "    </tr>\n",
              "    <tr>\n",
              "      <th>3</th>\n",
              "      <td>2020-03-12</td>\n",
              "      <td>0</td>\n",
              "      <td>-0.002729</td>\n",
              "    </tr>\n",
              "    <tr>\n",
              "      <th>4</th>\n",
              "      <td>2020-03-12</td>\n",
              "      <td>1</td>\n",
              "      <td>-0.263712</td>\n",
              "    </tr>\n",
              "  </tbody>\n",
              "</table>\n",
              "</div>"
            ],
            "text/plain": [
              "  event_date  rel_day       ret\n",
              "0 2020-03-12       -3 -0.082625\n",
              "1 2020-03-12       -2 -0.004995\n",
              "2 2020-03-12       -1 -0.022875\n",
              "3 2020-03-12        0 -0.002729\n",
              "4 2020-03-12        1 -0.263712"
            ]
          },
          "execution_count": 3,
          "metadata": {},
          "output_type": "execute_result"
        }
      ],
      "source": [
        "# Aggregate by relative day around event\n",
        "window_returns['rel_day'] = (window_returns['date'] - window_returns['event_date']).dt.days\n",
        "agg = window_returns.groupby(['event_date', 'rel_day'])['ret'].mean().reset_index()\n",
        "agg.head()\n"
      ]
    },
    {
      "cell_type": "code",
      "execution_count": 4,
      "metadata": {},
      "outputs": [
        {
          "data": {
            "text/plain": [
              "Text(0, 0.5, 'Average daily return')"
            ]
          },
          "execution_count": 4,
          "metadata": {},
          "output_type": "execute_result"
        },
        {
          "data": {
            "image/png": "[encoded data removed]",
            "text/plain": [
              "<Figure size 1000x400 with 1 Axes>"
            ]
          },
          "metadata": {},
          "output_type": "display_data"
        }
      ],
      "source": [
        "# Plot average returns by relative day\n",
        "avg_by_rel = window_returns.groupby('rel_day')['ret'].mean()\n",
        "ax = avg_by_rel.plot(kind='bar', figsize=(10,4), title='Average Return around Events')\n",
        "ax.set_xlabel('Days relative to event')\n",
        "ax.set_ylabel('Average daily return')\n"
      ]
    }
  ],
  "metadata": {
    "kernelspec": {
      "display_name": ".venv",
      "language": "python",
      "name": "python3"
    },
    "language_info": {
      "codemirror_mode": {
        "name": "ipython",
        "version": 3
      },
      "file_extension": ".py",
      "mimetype": "text/x-python",
      "name": "python",
      "nbconvert_exporter": "python",
      "pygments_lexer": "ipython3",
      "version": "3.13.5"
    }
  },
  "nbformat": 4,
  "nbformat_minor": 2
}
